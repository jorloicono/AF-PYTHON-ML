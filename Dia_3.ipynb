{
  "nbformat": 4,
  "nbformat_minor": 0,
  "metadata": {
    "colab": {
      "provenance": [],
      "collapsed_sections": []
    },
    "kernelspec": {
      "name": "python3",
      "display_name": "Python 3"
    },
    "language_info": {
      "name": "python"
    }
  },
  "cells": [
    {
      "cell_type": "markdown",
      "source": [
        "Funcions i Coleccions I"
      ],
      "metadata": {
        "id": "NUe0v4oBlj5P"
      }
    },
    {
      "cell_type": "code",
      "execution_count": null,
      "metadata": {
        "colab": {
          "base_uri": "https://localhost:8080/"
        },
        "id": "cpTDcK_flBeA",
        "outputId": "f43b9788-4e56-4c14-a707-4dd8e9e2f82e"
      },
      "outputs": [
        {
          "output_type": "stream",
          "name": "stdout",
          "text": [
            "Hola\n"
          ]
        }
      ],
      "source": [
        "def Saludar():\n",
        "  print(\"Hola\")\n",
        "\n",
        "Saludar()"
      ]
    },
    {
      "cell_type": "code",
      "source": [
        "def SumaResta(param1,param2):\n",
        "  return param1+param2, param1-param2\n",
        "\n",
        "num1=int(input(\"Nombre 1:\"))\n",
        "num2=int(input(\"Nombre 2:\"))\n",
        "\n",
        "suma, resta = SumaResta(num1,num2)\n",
        "\n",
        "print('Suma: ', suma)\n",
        "print('Resta: ', resta)"
      ],
      "metadata": {
        "colab": {
          "base_uri": "https://localhost:8080/"
        },
        "id": "F8Clp3_sliO_",
        "outputId": "9d29d652-e16b-4c9b-d13a-5aefc215b00f"
      },
      "execution_count": null,
      "outputs": [
        {
          "output_type": "stream",
          "name": "stdout",
          "text": [
            "Nombre 1:2\n",
            "Nombre 2:4\n",
            "Suma:  6\n",
            "Resta:  -2\n"
          ]
        }
      ]
    },
    {
      "cell_type": "code",
      "source": [
        "def datosTrabajador(nombre, sueldo=21000, estadoCivil=\"Solter@\"):\n",
        "    \n",
        "    if nombre=='Pepe':\n",
        "      sueldo+=10000\n",
        "\n",
        "    return nombre + \" su sueldo: \" + str(sueldo) + \" esta \" + estadoCivil\n",
        "\n",
        "print(datosTrabajador(\"Pepe\"))\n",
        "print(datosTrabajador(\"Antonio\", 35000))\n",
        "# print(datosTrabajador(sueldo=35000))\n",
        "print(datosTrabajador(\"Angel\", \"Separado\"))\n",
        "print(datosTrabajador(\"Angel\", estadoCivil=\"Separado\"))\n",
        "print(datosTrabajador(\"Angel\", 43000))\n"
      ],
      "metadata": {
        "colab": {
          "base_uri": "https://localhost:8080/"
        },
        "id": "93-ybbBIomHw",
        "outputId": "05f1ab1a-46a6-4f93-cafb-f8a8bda50276"
      },
      "execution_count": null,
      "outputs": [
        {
          "output_type": "stream",
          "name": "stdout",
          "text": [
            "Pepe su sueldo: 31000 esta Solter@\n",
            "Antonio su sueldo: 35000 esta Solter@\n",
            "Angel su sueldo: Separado esta Solter@\n",
            "Angel su sueldo: 21000 esta Separado\n",
            "Angel su sueldo: 43000 esta Solter@\n"
          ]
        }
      ]
    },
    {
      "cell_type": "code",
      "source": [
        "#Funció suma nombre variable de nombres\n",
        "\n",
        "def sumar(*nombre):\n",
        "  suma=0\n",
        "  for num in nombre:\n",
        "    suma+=num \n",
        "  return suma\n",
        "\n",
        "print(sumar())\n",
        "print(sumar(7))\n",
        "print(sumar(4,3))\n",
        "print(sumar(4,6,7))\n",
        "print(sumar(2,1,2,1,2))\n"
      ],
      "metadata": {
        "colab": {
          "base_uri": "https://localhost:8080/"
        },
        "id": "sEua7hY6qpk-",
        "outputId": "855547dc-8ede-40ab-c760-1e66a7a1b5d1"
      },
      "execution_count": null,
      "outputs": [
        {
          "output_type": "stream",
          "name": "stdout",
          "text": [
            "0\n",
            "7\n",
            "7\n",
            "17\n",
            "8\n"
          ]
        }
      ]
    },
    {
      "cell_type": "code",
      "source": [
        "def concatenar(*datos, separador=\" | \"):\n",
        "    return separador.join(datos)\n",
        "\n",
        "print(concatenar(\"lunes\",\"martes\",\"miercoles\",\"jueves\",\"viernes\",\"sabado\",\"domingo\"))\n",
        "print(concatenar(\"lunes\",\"martes\",\"miercoles\",\"jueves\",\"viernes\",\"sabado\",\"domingo\", separador=\",\"))\n"
      ],
      "metadata": {
        "colab": {
          "base_uri": "https://localhost:8080/"
        },
        "id": "VSyc7M-VsG9I",
        "outputId": "d79dac60-1162-4b82-beec-d68fdde29ca0"
      },
      "execution_count": null,
      "outputs": [
        {
          "output_type": "stream",
          "name": "stdout",
          "text": [
            "lunes | martes | miercoles | jueves | viernes | sabado | domingo\n",
            "lunes,martes,miercoles,jueves,viernes,sabado,domingo\n"
          ]
        }
      ]
    },
    {
      "cell_type": "code",
      "source": [
        "# Funcion que recibe el nombre y las notas de un alumno\n",
        "# utilizando la funcion sumar() calculamos la media\n",
        "# devuelve el nombre en mayusculas y la media de las notas"
      ],
      "metadata": {
        "id": "iXhVsWRAs1VC"
      },
      "execution_count": null,
      "outputs": []
    },
    {
      "cell_type": "code",
      "source": [
        "def sumar(*nombre):\n",
        "  suma=0\n",
        "  for num in nombre:\n",
        "    suma=suma + num \n",
        "  return suma\n",
        "\n",
        "def mitjana(*notes,nom):\n",
        "    n_notes=len(notes)\n",
        "    print(n_notes)\n",
        "    suma_notes=sumar(*notes)\n",
        "    print(suma_notes)\n",
        "    mitjana=suma_notes/n_notes\n",
        "    nom=nom.upper()\n",
        "    return mitjana,nom\n",
        "\n",
        "print(mitjana(4,8,3,6,nom=\"Juan\"))\n"
      ],
      "metadata": {
        "id": "4oIf0SQBxhpU",
        "colab": {
          "base_uri": "https://localhost:8080/"
        },
        "outputId": "f0a733a6-9c1b-425e-f2e4-53eae63544dd"
      },
      "execution_count": null,
      "outputs": [
        {
          "output_type": "stream",
          "name": "stdout",
          "text": [
            "4\n",
            "21\n",
            "(5.25, 'JUAN')\n"
          ]
        }
      ]
    },
    {
      "cell_type": "code",
      "source": [
        "def sumar_notas(*notas):\n",
        "\n",
        "    suma_total = 0\n",
        "    num_exams = 0\n",
        "    for num in notas:\n",
        "        media= sum(notas)/ len(notas)\n",
        "    return media\n",
        " \n",
        "nombre = input(\"Escribe nombre estudiante: \")\n",
        "print(\"La media de \" + nombre.upper() + \" es de \" + str(sumar_notas(9,8,7)))"
      ],
      "metadata": {
        "colab": {
          "base_uri": "https://localhost:8080/"
        },
        "id": "Lwg_Vmpiz3Gl",
        "outputId": "0e1c4939-06ff-440e-e13a-387435b38898"
      },
      "execution_count": null,
      "outputs": [
        {
          "output_type": "stream",
          "name": "stdout",
          "text": [
            "Escribe nombre estudiante: juan\n",
            "La media de JUAN es de 8.0\n"
          ]
        }
      ]
    },
    {
      "cell_type": "code",
      "source": [
        "# llista\n",
        "\n",
        "colorR = 'rojo'\n",
        "colorV = 'verde'\n",
        "colorA = 'azul'\n",
        "colores = [colorR, colorV, colorA]\n",
        "print(colores)\n",
        "\n",
        "#ordenar\n",
        "print(sorted(colores))\n",
        "print(sorted(colores,reverse=True))\n",
        "\n",
        "#mostrar element de la llista\n",
        "print(colores[1])\n",
        "\n",
        "#eliminar per posicio\n",
        "\n",
        "del colores[2]\n",
        "print(colores)\n",
        "\n",
        "#concatenar llistes \n",
        "\n",
        "masColores = ['blanco', 'negro', 'rosa', 'azul']\n",
        "nuevaLista = colores + masColores\n",
        "print(nuevaLista)\n",
        "\n",
        "colores=['azul','rojo']\n",
        "numeros=[1,2]\n",
        "print(colores,numeros)\n",
        "list(zip(colores, numeros))\n",
        "\n",
        "#insertar element a posició específica\n",
        "\n",
        "nuevaLista.insert(3,'marron')\n",
        "print(nuevaLista)\n",
        "\n",
        "#insertar elemento al final\n",
        "nuevaLista.append('naranja')\n",
        "print(nuevaLista)\n",
        "\n",
        "nuevaLista.append('rojo')\n",
        "\n",
        "print(nuevaLista.count('rojo'))\n",
        "\n",
        "print(nuevaLista.index('rojo',2))\n",
        "\n",
        "print(len(nuevaLista))\n",
        "\n",
        "print(nuevaLista[2:4])\n",
        "print(nuevaLista[:4])\n",
        "print(nuevaLista[-2:])\n",
        "print(nuevaLista[4:2])\n",
        "\n",
        "nuevaLista.clear()\n",
        "print(nuevaLista)\n",
        "\n",
        "## llista de llistes \n",
        "\n",
        "lista= ['ordenador','teclado','raton',[['pantalla','webcam'],'tarjeta de sonido','microfono','altavoces']]\n",
        "\n",
        "print(lista[0])\n",
        "print(lista[1])\n",
        "print(lista[2])\n",
        "print(lista[3])\n",
        "print(lista[3][0])\n",
        "print(lista[3][0][1])\n"
      ],
      "metadata": {
        "colab": {
          "base_uri": "https://localhost:8080/"
        },
        "id": "Jr2z5mqU11SA",
        "outputId": "d79eabd2-5514-4213-9ae4-96cadabd64b3"
      },
      "execution_count": null,
      "outputs": [
        {
          "output_type": "stream",
          "name": "stdout",
          "text": [
            "['rojo', 'verde', 'azul']\n",
            "['azul', 'rojo', 'verde']\n",
            "['verde', 'rojo', 'azul']\n",
            "verde\n",
            "['rojo', 'verde']\n",
            "['rojo', 'verde', 'blanco', 'negro', 'rosa', 'azul']\n",
            "['azul', 'rojo'] [1, 2]\n",
            "['rojo', 'verde', 'blanco', 'marron', 'negro', 'rosa', 'azul']\n",
            "['rojo', 'verde', 'blanco', 'marron', 'negro', 'rosa', 'azul', 'naranja']\n",
            "2\n",
            "8\n",
            "9\n",
            "['blanco', 'marron']\n",
            "['rojo', 'verde', 'blanco', 'marron']\n",
            "['naranja', 'rojo']\n",
            "[]\n",
            "[]\n",
            "ordenador\n",
            "teclado\n",
            "raton\n",
            "[['pantalla', 'webcam'], 'tarjeta de sonido', 'microfono', 'altavoces']\n",
            "['pantalla', 'webcam']\n",
            "webcam\n"
          ]
        }
      ]
    },
    {
      "cell_type": "code",
      "source": [
        "#tuples\n",
        "\n",
        "dias = (\"lunes\",\"martes\",\"miercoles\",\"jueves\",\"viernes\",\"sabado\",\"domingo\")\n",
        "\n",
        "# Mostrar la tupla\n",
        "print(dias)\n",
        "\n",
        "# Recorrer una tupla\n",
        "for dia in dias:\n",
        "    print(dia)\n",
        "    \n",
        "# Mostrar el miercoles\n",
        "print(dias[2])\n",
        "\n",
        "# Ordenar tupla\n",
        "print(sorted(dias))\n",
        "print(sorted(dias, reverse=True))\n",
        "\n",
        "# Intento borrar el lunes\n",
        "# TypeError: 'tuple' object doesn't support item deletion\n",
        "#del dias[0]  \n",
        "\n",
        "# Intentamos concatenar tuplas\n",
        "#otra_tupla = dias + ('otro_sabado') # TypeError: can only concatenate tuple (not \"str\") to tuple\n",
        "otra_tupla = dias + ('otro_sabado',) # con una coma si funciona. Le hacemos creer qie son varios elementos\n",
        "otra_tupla = dias + (\"otro_sabado\", \"otro_domingo\")\n",
        "print(otra_tupla)"
      ],
      "metadata": {
        "colab": {
          "base_uri": "https://localhost:8080/"
        },
        "id": "BXW9q6jQ9AvU",
        "outputId": "4fc16e23-41c1-4e07-f382-3c3ff8b142af"
      },
      "execution_count": null,
      "outputs": [
        {
          "output_type": "stream",
          "name": "stdout",
          "text": [
            "('lunes', 'martes', 'miercoles', 'jueves', 'viernes', 'sabado', 'domingo')\n",
            "lunes\n",
            "martes\n",
            "miercoles\n",
            "jueves\n",
            "viernes\n",
            "sabado\n",
            "domingo\n",
            "miercoles\n",
            "['domingo', 'jueves', 'lunes', 'martes', 'miercoles', 'sabado', 'viernes']\n",
            "['viernes', 'sabado', 'miercoles', 'martes', 'lunes', 'jueves', 'domingo']\n",
            "('lunes', 'martes', 'miercoles', 'jueves', 'viernes', 'sabado', 'domingo', 'otro_sabado', 'otro_domingo')\n"
          ]
        }
      ]
    }
  ]
}