{
  "nbformat": 4,
  "nbformat_minor": 0,
  "metadata": {
    "colab": {
      "provenance": []
    },
    "kernelspec": {
      "name": "python3",
      "display_name": "Python 3"
    },
    "language_info": {
      "name": "python"
    }
  },
  "cells": [
    {
      "cell_type": "markdown",
      "source": [
        "Tipus de dades, texto, conversions"
      ],
      "metadata": {
        "id": "E1t4nCn2Wh2o"
      }
    },
    {
      "cell_type": "code",
      "source": [
        "# numero entero\n",
        "\n",
        "num1 = 7\n",
        "num2 = 4\n",
        "\n",
        "suma = num1 + num2 \n",
        "\n",
        "print(suma)\n",
        "\n",
        "type(num1)\n"
      ],
      "metadata": {
        "id": "DJFDwXvMW_Tw",
        "colab": {
          "base_uri": "https://localhost:8080/"
        },
        "outputId": "f59e2153-39dd-4e7d-d9c8-090be7d642e5"
      },
      "execution_count": null,
      "outputs": [
        {
          "output_type": "stream",
          "name": "stdout",
          "text": [
            "10\n"
          ]
        },
        {
          "output_type": "execute_result",
          "data": {
            "text/plain": [
              "int"
            ]
          },
          "metadata": {},
          "execution_count": 4
        }
      ]
    },
    {
      "cell_type": "code",
      "source": [
        "sumando1 = int(input(\"Diume el primer sumando: \"))\n",
        "sumando2 = int(input(\"Diume el segon sumando: \"))\n",
        "\n",
        "print(\"Resultat:\",sumando1+sumando2)"
      ],
      "metadata": {
        "colab": {
          "base_uri": "https://localhost:8080/"
        },
        "id": "4twunIEiYxQI",
        "outputId": "e34a3b32-6259-4409-a6cf-ea1d4d32afbd"
      },
      "execution_count": null,
      "outputs": [
        {
          "output_type": "stream",
          "name": "stdout",
          "text": [
            "Diume el primer sumando: 2\n",
            "Diume el segon sumando: 3\n",
            "Resultat: 23\n"
          ]
        }
      ]
    },
    {
      "cell_type": "code",
      "source": [
        "# nombres reials\n",
        "\n",
        "base=5.34\n",
        "altura=6.23\n",
        "\n",
        "type(base)\n",
        "\n",
        "triangle = base*altura/2\n",
        "triangle\n",
        "round(triangle,6)"
      ],
      "metadata": {
        "colab": {
          "base_uri": "https://localhost:8080/"
        },
        "id": "SS_xjTC0ZbqP",
        "outputId": "e8cb0acf-da09-431f-f6aa-017904a8ea5e"
      },
      "execution_count": null,
      "outputs": [
        {
          "output_type": "execute_result",
          "data": {
            "text/plain": [
              "16.6341"
            ]
          },
          "metadata": {},
          "execution_count": 13
        }
      ]
    },
    {
      "cell_type": "code",
      "source": [
        "soltero=True\n",
        "type(soltero)\n",
        "\n",
        "print(\"Eres soltero?\",soltero,\":\", type(soltero))"
      ],
      "metadata": {
        "colab": {
          "base_uri": "https://localhost:8080/"
        },
        "id": "nWDJ-6rEaYrV",
        "outputId": "579a864e-436a-4610-fe36-f9376bfba60a"
      },
      "execution_count": null,
      "outputs": [
        {
          "output_type": "stream",
          "name": "stdout",
          "text": [
            "Eres soltero? True : <class 'bool'>\n"
          ]
        }
      ]
    },
    {
      "cell_type": "code",
      "source": [
        "nom = \"Pepe\"\n",
        "cognom = 'Perez'\n",
        "\n",
        "type(nom)\n",
        "\n",
        "nomsenser = nom + \" \" + cognom\n",
        "print(nomsenser)"
      ],
      "metadata": {
        "colab": {
          "base_uri": "https://localhost:8080/"
        },
        "id": "e5gsO-ShbBC4",
        "outputId": "6391e3a5-33f7-4358-a28b-1642ec73f6a4"
      },
      "execution_count": null,
      "outputs": [
        {
          "output_type": "stream",
          "name": "stdout",
          "text": [
            "PepePerez\n"
          ]
        }
      ]
    },
    {
      "cell_type": "code",
      "source": [
        "print(\"juan\", \"jose\",\"carlos\",\"luis\", sep=', ', end ='.')"
      ],
      "metadata": {
        "colab": {
          "base_uri": "https://localhost:8080/"
        },
        "id": "NFpHs6PjcBKJ",
        "outputId": "de3c39ed-c001-4440-df1b-b7c03d63af14"
      },
      "execution_count": null,
      "outputs": [
        {
          "output_type": "stream",
          "name": "stdout",
          "text": [
            "juan, jose, carlos, luis."
          ]
        }
      ]
    },
    {
      "cell_type": "code",
      "source": [
        "base=5.34\n",
        "print(\"Base triangulo: \" + str(base))\n",
        "\n",
        "type(base)\n"
      ],
      "metadata": {
        "colab": {
          "base_uri": "https://localhost:8080/"
        },
        "id": "By-vjZbRdFzD",
        "outputId": "d9cd4ebe-b793-410d-f4bb-fc34fecd1889"
      },
      "execution_count": null,
      "outputs": [
        {
          "output_type": "stream",
          "name": "stdout",
          "text": [
            "Base triangulo: 5.34\n"
          ]
        },
        {
          "output_type": "execute_result",
          "data": {
            "text/plain": [
              "str"
            ]
          },
          "metadata": {},
          "execution_count": 30
        }
      ]
    },
    {
      "cell_type": "code",
      "source": [
        "#funcions texto\n",
        "string = \"bon dia\"\n",
        "print(string.capitalize())\n",
        "print(string.upper())\n",
        "print(len(string))\n",
        "print(string.isalnum())\n",
        "print('123123'.isdigit())\n",
        "\n"
      ],
      "metadata": {
        "colab": {
          "base_uri": "https://localhost:8080/"
        },
        "id": "kB8BHBG2e367",
        "outputId": "1dac222f-9ab1-4cb0-bb63-6a42bd738436"
      },
      "execution_count": null,
      "outputs": [
        {
          "output_type": "stream",
          "name": "stdout",
          "text": [
            "Bon dia\n",
            "BON DIA\n",
            "7\n",
            "False\n",
            "True\n"
          ]
        }
      ]
    },
    {
      "cell_type": "code",
      "source": [
        "texto = \"Bienvenidos al curso de Python\"\n",
        "\n",
        "print(\"Max:\", max(texto))  # y\n",
        "print(\"Min:\", min(texto))  # espacio en blanco\n",
        "print(\"Min:\", min('a1'))   # 1\n",
        "\n",
        "print(texto.replace('e','E'))\n"
      ],
      "metadata": {
        "colab": {
          "base_uri": "https://localhost:8080/"
        },
        "id": "grQNYa7OgaBa",
        "outputId": "c45e915b-85d8-4861-97d5-301dc6ca13c1"
      },
      "execution_count": null,
      "outputs": [
        {
          "output_type": "stream",
          "name": "stdout",
          "text": [
            "Max: y\n",
            "Min:  \n",
            "Min: 1\n",
            "BiEnvEnidos al curso dE Python\n"
          ]
        }
      ]
    },
    {
      "cell_type": "code",
      "source": [
        "palabras = texto.split()\n",
        "print(palabras)\n",
        "print(\"-\".join(palabras))"
      ],
      "metadata": {
        "colab": {
          "base_uri": "https://localhost:8080/"
        },
        "id": "_x2wgEHDhB-9",
        "outputId": "b71368e2-1297-459d-8a8a-348c2af7a517"
      },
      "execution_count": null,
      "outputs": [
        {
          "output_type": "stream",
          "name": "stdout",
          "text": [
            "['Bienvenidos', 'al', 'curso', 'de', 'Python']\n",
            "Bienvenidos-al-curso-de-Python\n"
          ]
        }
      ]
    },
    {
      "cell_type": "code",
      "source": [
        "\n",
        "##split\n",
        "\n",
        "fecha = \"3/10/2022\"\n",
        "datos = fecha.split('/')\n",
        "print('Dia:', datos[0])\n",
        "print('Mes:', datos[1])\n",
        "print('año:', datos[2])"
      ],
      "metadata": {
        "colab": {
          "base_uri": "https://localhost:8080/"
        },
        "id": "Yo4NauKshO-r",
        "outputId": "ccb0e31a-e13a-47e8-9ae6-be96253585a8"
      },
      "execution_count": null,
      "outputs": [
        {
          "output_type": "stream",
          "name": "stdout",
          "text": [
            "Dia: 3\n",
            "Mes: 10\n",
            "año: 2022\n"
          ]
        }
      ]
    },
    {
      "cell_type": "code",
      "source": [
        "# convertir de str a int\n",
        "dato = input(\"Dime tu edad: \")\n",
        "print(type(dato))\n",
        "edad = int(dato) + 1\n",
        "print(\"Feliz cumpleaños, tienes\", edad, \"años\")\n"
      ],
      "metadata": {
        "colab": {
          "base_uri": "https://localhost:8080/"
        },
        "id": "F-JUPd2TcHrJ",
        "outputId": "62576a19-1fd5-4b17-9b00-fd529212afcb"
      },
      "execution_count": 3,
      "outputs": [
        {
          "output_type": "stream",
          "name": "stdout",
          "text": [
            "Dime tu edad: 20\n",
            "<class 'str'>\n",
            "Feliz cumpleaños, tienes 21 años\n"
          ]
        }
      ]
    },
    {
      "cell_type": "code",
      "source": [
        "import math\n",
        "\n",
        "# convertir de str a float\n",
        "radio = float(input(\"Introduce radio del circulo: \"))\n",
        "print(\"Area del circulo\", math.pi*radio**2)  # ** es una potencia\n",
        "# round (que, decimales)\n",
        "print(\"Area del circulo\", round(math.pi*radio**2, 2) )"
      ],
      "metadata": {
        "id": "RLxlR59YcXc7"
      },
      "execution_count": null,
      "outputs": []
    }
  ]
}