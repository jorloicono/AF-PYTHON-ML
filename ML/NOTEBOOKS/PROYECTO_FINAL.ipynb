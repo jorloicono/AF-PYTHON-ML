{
  "nbformat": 4,
  "nbformat_minor": 0,
  "metadata": {
    "colab": {
      "provenance": []
    },
    "kernelspec": {
      "name": "python3",
      "display_name": "Python 3"
    },
    "language_info": {
      "name": "python"
    }
  },
  "cells": [
    {
      "cell_type": "code",
      "execution_count": null,
      "metadata": {
        "id": "v8UAbf652HdD"
      },
      "outputs": [],
      "source": [
        "import pandas as pd\n",
        "from sklearn.linear_model import LogisticRegression\n",
        "from sklearn.linear_model import LinearRegression\n",
        "from sklearn import preprocessing\n",
        "import numpy as np\n",
        "from sklearn.neighbors import KNeighborsClassifier\n",
        "from sklearn.model_selection import train_test_split\n",
        "from sklearn.neighbors import KNeighborsClassifier\n",
        "from sklearn.tree import DecisionTreeClassifier\n",
        "from sklearn import svm\n",
        "from sklearn.metrics import jaccard_score\n",
        "from sklearn.metrics import f1_score\n",
        "from sklearn.metrics import log_loss\n",
        "from sklearn.metrics import confusion_matrix, accuracy_score\n",
        "import sklearn.metrics as metrics\n",
        "df = pd.read_csv(\"weather_Data.csv\")\n"
      ]
    },
    {
      "cell_type": "code",
      "source": [
        "df_sydney_processed = pd.get_dummies(data=df, columns=['RainToday', 'WindGustDir', 'WindDir9am', 'WindDir3pm'])\n",
        "\n",
        "df_sydney_processed.replace(['No', 'Yes'], [0,1], inplace=True)\n",
        "\n",
        "df_sydney_processed.drop('Date',axis=1,inplace=True)\n",
        "df_sydney_processed = df_sydney_processed.astype(float)\n",
        "X = df_sydney_processed.drop(columns='RainTomorrow', axis=1)\n",
        "Y = df_sydney_processed['RainTomorrow']"
      ],
      "metadata": {
        "id": "n-Bc6MZf22Or"
      },
      "execution_count": null,
      "outputs": []
    },
    {
      "cell_type": "markdown",
      "source": [
        "PREGUNTAS - REGRESIÓN LINEAL\n",
        "\n",
        "- Usa train_test_split function para separar en train y test con un 0.2 de tamaño de test \n",
        "\n",
        "- Crea y entrena un modelo de Linear Regression model llamado LinearReg usando los datos de train \n",
        "\n",
        "- Predice los dats de test y guardalos en un vector de predicciones \n",
        "\n",
        "- Calcula las métricas del modelo\n"
      ],
      "metadata": {
        "id": "0n49zEni3ExN"
      }
    },
    {
      "cell_type": "code",
      "source": [
        "from sklearn.model_selection import train_test_split\n",
        "X_train, X_test, Y_train, Y_test = train_test_split( X, Y, test_size=0.2, random_state=4)\n",
        "print ('Train set:', X_train.shape,  Y_train.shape)\n",
        "print ('Test set:', X_test.shape,  Y_test.shape)"
      ],
      "metadata": {
        "colab": {
          "base_uri": "https://localhost:8080/"
        },
        "id": "wJ4H9eru545T",
        "outputId": "08e7e5b2-6b49-457b-f8f8-f549c482e6f8"
      },
      "execution_count": null,
      "outputs": [
        {
          "output_type": "stream",
          "name": "stdout",
          "text": [
            "Train set: (2616, 66) (2616,)\n",
            "Test set: (655, 66) (655,)\n"
          ]
        }
      ]
    },
    {
      "cell_type": "code",
      "source": [
        "from sklearn import linear_model\n",
        "LinearReg = linear_model.LinearRegression()\n",
        "x = np.asanyarray(X_train)\n",
        "y = np.asanyarray(Y_train)\n",
        "LinearReg.fit (x, y)\n",
        "# The coefficients\n",
        "print ('Coefficients: ', LinearReg.coef_)"
      ],
      "metadata": {
        "colab": {
          "base_uri": "https://localhost:8080/"
        },
        "id": "xod5zY4h6RoW",
        "outputId": "ab9b240f-24fa-46dd-a61c-52931e357f78"
      },
      "execution_count": null,
      "outputs": [
        {
          "output_type": "stream",
          "name": "stdout",
          "text": [
            "Coefficients:  [-3.20286374e-02  1.17500648e-02  1.11024379e-03  7.46914864e-03\n",
            " -3.74560233e-02  3.69823843e-03  1.00205882e-03  1.27628990e-03\n",
            "  1.81747510e-03  8.18258379e-03  1.14776813e-03 -3.90568808e-03\n",
            " -1.32151262e-02  1.11775641e-02  1.85066603e-02 -1.08311562e-03\n",
            "  2.19622203e+10  2.19622203e+10  9.98270326e+09  9.98270326e+09\n",
            "  9.98270326e+09  9.98270326e+09  9.98270326e+09  9.98270326e+09\n",
            "  9.98270326e+09  9.98270326e+09  9.98270326e+09  9.98270326e+09\n",
            "  9.98270326e+09  9.98270326e+09  9.98270326e+09  9.98270326e+09\n",
            "  9.98270326e+09  9.98270326e+09  2.52658043e+08  2.52658043e+08\n",
            "  2.52658043e+08  2.52658043e+08  2.52658043e+08  2.52658043e+08\n",
            "  2.52658043e+08  2.52658043e+08  2.52658043e+08  2.52658043e+08\n",
            "  2.52658043e+08  2.52658043e+08  2.52658043e+08  2.52658043e+08\n",
            "  2.52658043e+08  2.52658043e+08  1.01683553e+09  1.01683553e+09\n",
            "  1.01683553e+09  1.01683553e+09  1.01683553e+09  1.01683553e+09\n",
            "  1.01683553e+09  1.01683553e+09  1.01683553e+09  1.01683553e+09\n",
            "  1.01683553e+09  1.01683553e+09  1.01683553e+09  1.01683553e+09\n",
            "  1.01683553e+09  1.01683553e+09]\n"
          ]
        }
      ]
    },
    {
      "cell_type": "code",
      "source": [
        "y_hat = LinearReg.predict(X_test)\n",
        "x = np.asanyarray(X_test)\n",
        "y = np.asanyarray(Y_test)\n",
        "print(\"Residual sum of squares: %.2f\"\n",
        "      % np.mean((y_hat - y) ** 2))\n",
        "print('Variance score: %.2f' % LinearReg.score(x, y))"
      ],
      "metadata": {
        "colab": {
          "base_uri": "https://localhost:8080/"
        },
        "id": "RXFltVos7ZkY",
        "outputId": "775d85a0-fead-4d5f-a931-91c3f4d5e70c"
      },
      "execution_count": null,
      "outputs": [
        {
          "output_type": "stream",
          "name": "stdout",
          "text": [
            "Residual sum of squares: 0.12\n",
            "Variance score: 0.39\n"
          ]
        },
        {
          "output_type": "stream",
          "name": "stderr",
          "text": [
            "/usr/local/lib/python3.8/dist-packages/sklearn/base.py:443: UserWarning: X has feature names, but LinearRegression was fitted without feature names\n",
            "  warnings.warn(\n"
          ]
        }
      ]
    },
    {
      "cell_type": "markdown",
      "source": [
        "PREGUNTAS - KNN\n",
        "\n",
        "- Crea un modelo de KNN con los datos de entrenamiento y 4 vecinos.\n",
        "\n",
        "- Utiliza predict para predecir los resultados usando los datos de test y guardalo en un vector de predicciones\n",
        "\n",
        "- Calcula el valor de las diferentes métricas usando el vector anteriormente calculado  "
      ],
      "metadata": {
        "id": "Y61zGRi54zvh"
      }
    },
    {
      "cell_type": "code",
      "source": [],
      "metadata": {
        "id": "tIXEPnVM3p37"
      },
      "execution_count": null,
      "outputs": []
    }
  ]
}