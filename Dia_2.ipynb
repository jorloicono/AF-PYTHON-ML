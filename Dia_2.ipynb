{
  "nbformat": 4,
  "nbformat_minor": 0,
  "metadata": {
    "colab": {
      "provenance": [],
      "collapsed_sections": []
    },
    "kernelspec": {
      "name": "python3",
      "display_name": "Python 3"
    },
    "language_info": {
      "name": "python"
    }
  },
  "cells": [
    {
      "cell_type": "markdown",
      "source": [
        "Operadors i estructures de control (if, for, while) "
      ],
      "metadata": {
        "id": "rseb8n6Adxy5"
      }
    },
    {
      "cell_type": "code",
      "execution_count": null,
      "metadata": {
        "colab": {
          "base_uri": "https://localhost:8080/"
        },
        "id": "J3IJq-rcdsDk",
        "outputId": "9119c83c-1ff7-47c4-f23e-9c7ae8ff7b0a"
      },
      "outputs": [
        {
          "output_type": "stream",
          "name": "stdout",
          "text": [
            "13\n",
            "3\n",
            "40\n",
            "1.6\n",
            "3\n",
            "32768\n",
            "1\n"
          ]
        }
      ],
      "source": [
        "nombre1 = 8\n",
        "nombre2 = 5\n",
        "\n",
        "print(nombre1 + nombre2) \n",
        "print(nombre1 - nombre2) \n",
        "print(nombre1 * nombre2) \n",
        "print(nombre1 / nombre2) \n",
        "#resto\n",
        "print(nombre1 % nombre2) \n",
        "#potencia\n",
        "print(nombre1 ** nombre2) \n",
        "##divisio sencera\n",
        "print(nombre1 // nombre2) \n"
      ]
    },
    {
      "cell_type": "code",
      "source": [
        "nombre1 += 3\n",
        "print(nombre1)\n",
        "\n",
        "nombre1 *= 3\n",
        "print(nombre1)\n",
        "\n",
        "nombre1 %= 3\n",
        "print(nombre1)"
      ],
      "metadata": {
        "colab": {
          "base_uri": "https://localhost:8080/"
        },
        "id": "xJPgT9exfpEU",
        "outputId": "60fe3a5d-a296-4fd1-cb0c-5a5bcc6b71be"
      },
      "execution_count": null,
      "outputs": [
        {
          "output_type": "stream",
          "name": "stdout",
          "text": [
            "14\n",
            "42\n",
            "0\n"
          ]
        }
      ]
    },
    {
      "cell_type": "code",
      "source": [],
      "metadata": {
        "id": "XQ9LTsBmhLjN"
      },
      "execution_count": null,
      "outputs": []
    },
    {
      "cell_type": "code",
      "source": [
        "print(nombre1<nombre2)\n",
        "\n",
        "print(nombre2!=nombre1)"
      ],
      "metadata": {
        "colab": {
          "base_uri": "https://localhost:8080/"
        },
        "id": "CetrfjnHgRV3",
        "outputId": "056d365a-78ed-4d3a-c0e6-8d8db995cddb"
      },
      "execution_count": null,
      "outputs": [
        {
          "output_type": "stream",
          "name": "stdout",
          "text": [
            "True\n",
            "True\n"
          ]
        }
      ]
    },
    {
      "cell_type": "code",
      "source": [
        "print(nombre1>nombre2 or nombre2>=5)\n",
        "\n",
        "print(nombre1>nombre2 or nombre1>5)\n",
        "\n",
        "print(not(nombre2==8))\n"
      ],
      "metadata": {
        "colab": {
          "base_uri": "https://localhost:8080/"
        },
        "id": "pnApRvAwhRo8",
        "outputId": "a27fa125-d0ff-4886-aabe-5ffb0661ceea"
      },
      "execution_count": null,
      "outputs": [
        {
          "output_type": "stream",
          "name": "stdout",
          "text": [
            "True\n",
            "False\n",
            "True\n"
          ]
        }
      ]
    },
    {
      "cell_type": "code",
      "source": [
        "nombre1=5\n",
        "print(nombre1 is not nombre2)\n",
        "\n",
        "\n",
        "noms1=['Juan','Maria']\n",
        "noms2=['Juan','Maria']\n",
        "\n",
        "print(noms1 is noms2)\n",
        "\n",
        "print('Juan' in noms2)\n",
        "print('Jose' in noms2)\n",
        "\n",
        "#comparar listas \n",
        "\n",
        "for i in range(0,len(noms1)):\n",
        "  print(noms2[i] is noms1[i])\n",
        "  "
      ],
      "metadata": {
        "colab": {
          "base_uri": "https://localhost:8080/"
        },
        "id": "6UUkHjjrihrh",
        "outputId": "20559a78-3603-4e98-fba0-296632def3cd"
      },
      "execution_count": null,
      "outputs": [
        {
          "output_type": "stream",
          "name": "stdout",
          "text": [
            "False\n",
            "True\n",
            "True\n"
          ]
        }
      ]
    },
    {
      "cell_type": "code",
      "source": [
        "nombre1=3\n",
        "nombre2=3\n",
        "\n",
        "if nombre1>nombre2:\n",
        "  print('major')\n",
        "elif nombre1<nombre2:\n",
        "  print('menor')\n",
        "else:\n",
        "  print('igual')\n",
        "\n",
        "#altra opció\n",
        "\n",
        "if nombre1>nombre2:\n",
        "  print('major')\n",
        "else:\n",
        "  if nombre1<nombre2:\n",
        "    print('menor')\n",
        "  else:\n",
        "    print('igual')"
      ],
      "metadata": {
        "colab": {
          "base_uri": "https://localhost:8080/"
        },
        "id": "L7PFaAf_k9-r",
        "outputId": "7abb6f44-cef2-48e6-bb7a-03f6bfa66ce0"
      },
      "execution_count": null,
      "outputs": [
        {
          "output_type": "stream",
          "name": "stdout",
          "text": [
            "major\n"
          ]
        }
      ]
    },
    {
      "cell_type": "code",
      "source": [
        "#exercici\n",
        "\n",
        "'''\n",
        "    Solicitar al usuario un numero entre 1 y 10\n",
        "    comprobar si es menor de 1 sacar un mensaje\n",
        "    comprobar si es mayor de 10 sacar un mensaje\n",
        "    si es correcto, mensaje de ok\n",
        "'''\n",
        "\n"
      ],
      "metadata": {
        "id": "3WG55yaDm50Y"
      },
      "execution_count": null,
      "outputs": []
    },
    {
      "cell_type": "code",
      "source": [
        "#maynor \n",
        "\n",
        "num1= int(input(\"Ingresa un numero del 1 al 10\"))\n",
        "\n",
        "if num1>=1 and num1<=10 :\n",
        "   print (\"Ok\")\n",
        "elif num1<1 :\n",
        "   print(\"El numero es menor que 1\")\n",
        "else  :\n",
        "   print(\"El numero es mayor que 10\")"
      ],
      "metadata": {
        "id": "bMtSHIKUpteQ"
      },
      "execution_count": null,
      "outputs": []
    },
    {
      "cell_type": "code",
      "source": [
        "#jordi\n",
        "print('introduiu per teclat un nombre entre 1 l 10:')\n",
        "num=int( input())\n",
        "if num<1:\n",
        "    print(\"el num es massa petit\")\n",
        "elif num>10:\n",
        "    print(\"el num es massa gran\")\n",
        "else:\n",
        "    print(\"ok\")"
      ],
      "metadata": {
        "id": "WRmZB0TGpvrn",
        "colab": {
          "base_uri": "https://localhost:8080/"
        },
        "outputId": "869fb961-01e4-484e-dcec-6c2e68d06e0c"
      },
      "execution_count": null,
      "outputs": [
        {
          "output_type": "stream",
          "name": "stdout",
          "text": [
            "introduiu per teclat un nombre entre 1 l 10:\n",
            "1\n",
            "1\n",
            "ok\n"
          ]
        }
      ]
    },
    {
      "cell_type": "code",
      "source": [],
      "metadata": {
        "id": "gYWPA2gZyDqh"
      },
      "execution_count": null,
      "outputs": []
    },
    {
      "cell_type": "code",
      "source": [
        "#edu\n",
        "\n",
        "num1 = int(input(\"Número entre 1 y 10\"))\n",
        "\n",
        "if num1 < 1:\n",
        "    print(\"error\")\n",
        "elif num1 > 10:\n",
        "    print(\"error\")\n",
        "else:\n",
        "    print(\"OK\")"
      ],
      "metadata": {
        "id": "RaBztFtcrM-k"
      },
      "execution_count": null,
      "outputs": []
    },
    {
      "cell_type": "code",
      "source": [
        "#zdravko\n",
        "\n",
        "num1= int(input(\"Ingresa un numero del 1 al 10: \"))\n",
        "\n",
        "\n",
        "if num1<1  :\n",
        "   print(\"El numero es menos que 1\")\n",
        "elif num1>10 :\n",
        "   print(\"El numero es mas que 10\")\n",
        "else  :\n",
        "   print (\"Ok\")"
      ],
      "metadata": {
        "id": "3jmgS9tprscF"
      },
      "execution_count": null,
      "outputs": []
    },
    {
      "cell_type": "code",
      "source": [
        "nombres = ['Luis', 'Jorge', 'Maria', 'Laura', 'Pedro']\n",
        "\n",
        "for item in nombres :\n",
        "    print(item)\n",
        "print(\"------- FIN -------\")\n",
        "\n",
        "for numero in range(10):  # Rango empieza en 0 y termina num-1\n",
        "    print(numero)\n",
        "    print('*')\n",
        "print(\"------- FIN -------\")\n",
        "for i in range(len(nombres)):\n",
        "    print(nombres[i])\n",
        "print(\"------- FIN -------\")\n",
        "\n",
        "i=0\n",
        "while i<10:\n",
        "  print(i)\n",
        "  i=i+1\n"
      ],
      "metadata": {
        "colab": {
          "base_uri": "https://localhost:8080/"
        },
        "id": "1zgq3dQRszXE",
        "outputId": "8c7002d8-e116-4895-ed06-1aed54aed951"
      },
      "execution_count": null,
      "outputs": [
        {
          "output_type": "stream",
          "name": "stdout",
          "text": [
            "Luis\n",
            "Jorge\n",
            "Maria\n",
            "Laura\n",
            "Pedro\n",
            "------- FIN -------\n",
            "0\n",
            "*\n",
            "1\n",
            "*\n",
            "2\n",
            "*\n",
            "3\n",
            "*\n",
            "4\n",
            "*\n",
            "5\n",
            "*\n",
            "6\n",
            "*\n",
            "7\n",
            "*\n",
            "8\n",
            "*\n",
            "9\n",
            "*\n",
            "------- FIN -------\n",
            "Luis\n",
            "Jorge\n",
            "Maria\n",
            "Laura\n",
            "Pedro\n",
            "------- FIN -------\n",
            "0\n",
            "1\n",
            "2\n",
            "3\n",
            "4\n",
            "5\n",
            "6\n",
            "7\n",
            "8\n",
            "9\n"
          ]
        }
      ]
    },
    {
      "cell_type": "code",
      "source": [],
      "metadata": {
        "id": "qEhke3PLyTwn"
      },
      "execution_count": null,
      "outputs": []
    },
    {
      "cell_type": "code",
      "source": [
        "'''\n",
        "    Solicitar pw al usuario hasta que acierte que es \"curso\".\n",
        "    Solo tiene 3 intentos\n",
        "    \n",
        "    break; da por terminado el bucle\n",
        "    continue; da por terminada esa iteraccion y continua con la siguiente\n",
        "'''"
      ],
      "metadata": {
        "id": "laFQJN2IuKZA"
      },
      "execution_count": null,
      "outputs": []
    },
    {
      "cell_type": "code",
      "source": [
        "system_pw = \"curso\"\n",
        "\n",
        "user_pw = int(input(\"Introduce tu contraseña\"))\n",
        "intentos = 0\n",
        "           \n",
        "while system_pw != user_pw and intentos < 3:\n",
        "           intentos = intentos + 1\n",
        "           user_pw = int(input(\"Error, vuelve a introducir tu contraseña\"))\n",
        "\n",
        "print(\"Contraseña correcta\")"
      ],
      "metadata": {
        "id": "_EZbLnXdxcME",
        "colab": {
          "base_uri": "https://localhost:8080/"
        },
        "outputId": "acfa7a14-64d1-421e-cb48-242778899cc5"
      },
      "execution_count": null,
      "outputs": [
        {
          "output_type": "stream",
          "name": "stdout",
          "text": [
            "Introduce tu contraseña2\n",
            "Error, vuelve a introducir tu contraseña2\n",
            "Error, vuelve a introducir tu contraseña2\n",
            "Error, vuelve a introducir tu contraseña2\n",
            "Contraseña correcta\n"
          ]
        }
      ]
    },
    {
      "cell_type": "code",
      "source": [
        "#jordi\n",
        "password=\"hola\"\n",
        "for i in range(3):\n",
        "    print(\"introdueix el teu password\")\n",
        "    pswd = input()\n",
        "    if password==pswd:\n",
        "        print(\"password correcte\")\n",
        "        break\n",
        "    else:\n",
        "        print(\"PW incorrecta. Te quedan\", 2-i,\"intentos\")"
      ],
      "metadata": {
        "id": "gWp9IOGbyGB-"
      },
      "execution_count": null,
      "outputs": []
    },
    {
      "cell_type": "code",
      "source": [
        "#maynor"
      ],
      "metadata": {
        "id": "ycNPO1GJyVFj"
      },
      "execution_count": null,
      "outputs": []
    },
    {
      "cell_type": "code",
      "source": [
        "'''Duda>  for i in range(0,3): '''\n",
        "for i in range(1,3):\n",
        "    palabra = input(\"Ingresa tu contraseña\")\n",
        "    if palabra == 'Curso' :\n",
        "     print(\"Tu contraseña es correcta\")     \n",
        "     break"
      ],
      "metadata": {
        "id": "d3c_T5WmyWW2"
      },
      "execution_count": null,
      "outputs": []
    },
    {
      "cell_type": "code",
      "source": [
        "# Version 1\n",
        "# pw = \"\"\n",
        "# intentos = 3\n",
        "# while pw != \"curso\":\n",
        "#     pw = input(\"Introduce pw: \")\n",
        "#     intentos -= 1\n",
        "#     if intentos == 0:\n",
        "#         print(\"Se agotaron tus oportunidades\")\n",
        "#         break\n",
        "# if pw == \"curso\":\n",
        "#     print(\"Has acertado\")\n",
        "    \n",
        "    \n",
        "# Version 2 \n",
        "# intentos = 0\n",
        "# while intentos < 3 :\n",
        "#     pw = input(\"Introduce pw: \")\n",
        "#     if pw == \"curso\":\n",
        "#         print(\"Has acertado\")\n",
        "#         break\n",
        "#     else:\n",
        "#         print(\"PW incorrecta\")\n",
        "#     intentos += 1\n",
        "    \n",
        "\n",
        "# Version 3\n",
        "for intento in range(3):\n",
        "    pw = input(\"Introduce pw: \")\n",
        "    if pw == \"curso\":\n",
        "        print(\"Has acertado\")\n",
        "        break\n",
        "    else:\n",
        "        print(\"PW incorrecta. Te quedan\", 2-intento,\"intentos\")"
      ],
      "metadata": {
        "id": "8p7dNzkC0q2Y"
      },
      "execution_count": null,
      "outputs": []
    }
  ]
}