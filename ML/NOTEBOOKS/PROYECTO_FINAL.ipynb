{
  "nbformat": 4,
  "nbformat_minor": 0,
  "metadata": {
    "colab": {
      "provenance": []
    },
    "kernelspec": {
      "name": "python3",
      "display_name": "Python 3"
    },
    "language_info": {
      "name": "python"
    }
  },
  "cells": [
    {
      "cell_type": "code",
      "execution_count": null,
      "metadata": {
        "id": "v8UAbf652HdD"
      },
      "outputs": [],
      "source": [
        "import pandas as pd\n",
        "from sklearn.linear_model import LogisticRegression\n",
        "from sklearn.linear_model import LinearRegression\n",
        "from sklearn import preprocessing\n",
        "import numpy as np\n",
        "from sklearn.neighbors import KNeighborsClassifier\n",
        "from sklearn.model_selection import train_test_split\n",
        "from sklearn.neighbors import KNeighborsClassifier\n",
        "from sklearn.tree import DecisionTreeClassifier\n",
        "from sklearn import svm\n",
        "from sklearn.metrics import jaccard_score\n",
        "from sklearn.metrics import f1_score\n",
        "from sklearn.metrics import log_loss\n",
        "from sklearn.metrics import confusion_matrix, accuracy_score\n",
        "import sklearn.metrics as metrics\n",
        "df = pd.read_csv(\"weather_Data.csv\")\n"
      ]
    },
    {
      "cell_type": "code",
      "source": [
        "df_sydney_processed = pd.get_dummies(data=df, columns=['RainToday', 'WindGustDir', 'WindDir9am', 'WindDir3pm'])\n",
        "\n",
        "df_sydney_processed.replace(['No', 'Yes'], [0,1], inplace=True)\n",
        "\n",
        "df_sydney_processed.drop('Date',axis=1,inplace=True)\n",
        "df_sydney_processed = df_sydney_processed.astype(float)\n",
        "X = df_sydney_processed.drop(columns='RainTomorrow', axis=1)\n",
        "Y = df_sydney_processed['RainTomorrow']"
      ],
      "metadata": {
        "id": "n-Bc6MZf22Or"
      },
      "execution_count": null,
      "outputs": []
    },
    {
      "cell_type": "markdown",
      "source": [
        "PREGUNTAS - REGRESIÓN LINEAL\n",
        "\n",
        "- Usa train_test_split function para separar en train y test con un 0.2 de tamaño de test \n",
        "\n",
        "- Crea y entrena un modelo de Linear Regression model llamado LinearReg usando los datos de train \n",
        "\n",
        "- Predice los dats de test y guardalos en un vector de predicciones \n",
        "\n",
        "- Calcula las métricas del modelo\n"
      ],
      "metadata": {
        "id": "0n49zEni3ExN"
      }
    },
    {
      "cell_type": "markdown",
      "source": [
        "PREGUNTAS - KNN\n",
        "\n",
        "- Crea un modelo de KNN con los datos de entrenamiento y 4 vecinos.\n",
        "\n",
        "- Utiliza predict para predecir los resultados usando los datos de test y guardalo en un vector de predicciones\n",
        "\n",
        "- Calcula el valor de las diferentes métricas usando el vector anteriormente calculado  "
      ],
      "metadata": {
        "id": "Y61zGRi54zvh"
      }
    }
  ]
}
